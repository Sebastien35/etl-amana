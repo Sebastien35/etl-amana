{
 "cells": [
  {
   "cell_type": "code",
   "execution_count": 21,
   "id": "52984fb8",
   "metadata": {},
   "outputs": [],
   "source": [
    "import sys\n",
    "import os\n",
    "import pandas as pd\n",
    "project_root = os.path.abspath(os.path.join(os.getcwd(), \"../../..\"))\n",
    "\n",
    "if project_root not in sys.path:\n",
    "    sys.path.insert(0, project_root)\n",
    "\n",
    "from src.etl.infrastructure.db_connector import DBConnector # noqa\n",
    "from src.etl.domain.entities import Customer # noqa\n",
    "from src.etl.infrastructure.real_customer_repository import RealCustomerRepository # noqa\n",
    "\n",
    "def get_all_customers(db_connector: DBConnector) -> list[Customer]:\n",
    "    query = \"SELECT id, name, email, age FROM customers\"\n",
    "    db_client = db_connector.connect()\n",
    "    result = db_client.execute_query(query)\n",
    "    customers = []\n",
    "    for row in result.fetchall():\n",
    "        customers.append(Customer(id=row[0], name=row[1], email=row[2], age=row[3]))\n",
    "    return customers"
   ]
  },
  {
   "cell_type": "code",
   "execution_count": null,
   "id": "4164e97e",
   "metadata": {},
   "outputs": [],
   "source": []
  }
 ],
 "metadata": {
  "kernelspec": {
   "display_name": "venv",
   "language": "python",
   "name": "python3"
  },
  "language_info": {
   "codemirror_mode": {
    "name": "ipython",
    "version": 3
   },
   "file_extension": ".py",
   "mimetype": "text/x-python",
   "name": "python",
   "nbconvert_exporter": "python",
   "pygments_lexer": "ipython3",
   "version": "3.12.3"
  }
 },
 "nbformat": 4,
 "nbformat_minor": 5
}
